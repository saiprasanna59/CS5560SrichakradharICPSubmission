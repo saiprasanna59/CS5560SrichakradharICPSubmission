{
 "cells": [
  {
   "cell_type": "code",
   "execution_count": 1,
   "metadata": {},
   "outputs": [],
   "source": [
    "import json\n",
    "from stanfordcorenlp import StanfordCoreNLP\n",
    "\n",
    "# Start server before running\n",
    "# java -mx4G -cp \"*\" edu.stanford.nlp.pipeline.StanfordCoreNLPServer -port 9000 -timeout  15000\n",
    "# Connect to server\n",
    "host = 'http://localhost'\n",
    "port = 9000\n",
    "nlp = StanfordCoreNLP(host, port=port,timeout=15000)"
   ]
  },
  {
   "cell_type": "markdown",
   "metadata": {},
   "source": [
    "# Triplets"
   ]
  },
  {
   "cell_type": "code",
   "execution_count": 5,
   "metadata": {},
   "outputs": [
    {
     "name": "stdout",
     "output_type": "stream",
     "text": [
      "{\n",
      "  \"sentences\": [\n",
      "    {\n",
      "      \"index\": 0,\n",
      "      \"basicDependencies\": [\n",
      "        {\n",
      "          \"dep\": \"ROOT\",\n",
      "          \"governor\": 0,\n",
      "          \"governorGloss\": \"ROOT\",\n",
      "          \"dependent\": 4,\n",
      "          \"dependentGloss\": \"born\"\n",
      "        },\n",
      "        {\n",
      "          \"dep\": \"compound\",\n",
      "          \"governor\": 2,\n",
      "          \"governorGloss\": \"Obama\",\n",
      "          \"dependent\": 1,\n",
      "          \"dependentGloss\": \"Brack\"\n",
      "        },\n",
      "        {\n",
      "          \"dep\": \"nsubjpass\",\n",
      "          \"governor\": 4,\n",
      "          \"governorGloss\": \"born\",\n",
      "          \"dependent\": 2,\n",
      "          \"dependentGloss\": \"Obama\"\n",
      "        },\n",
      "        {\n",
      "          \"dep\": \"auxpass\",\n",
      "          \"governor\": 4,\n",
      "          \"governorGloss\": \"born\",\n",
      "          \"dependent\": 3,\n",
      "          \"dependentGloss\": \"was\"\n",
      "        },\n",
      "        {\n",
      "          \"dep\": \"case\",\n",
      "          \"governor\": 6,\n",
      "          \"governorGloss\": \"Hawaii\",\n",
      "          \"dependent\": 5,\n",
      "          \"dependentGloss\": \"in\"\n",
      "        },\n",
      "        {\n",
      "          \"dep\": \"nmod\",\n",
      "          \"governor\": 4,\n",
      "          \"governorGloss\": \"born\",\n",
      "          \"dependent\": 6,\n",
      "          \"dependentGloss\": \"Hawaii\"\n",
      "        }\n",
      "      ],\n",
      "      \"enhancedDependencies\": [\n",
      "        {\n",
      "          \"dep\": \"ROOT\",\n",
      "          \"governor\": 0,\n",
      "          \"governorGloss\": \"ROOT\",\n",
      "          \"dependent\": 4,\n",
      "          \"dependentGloss\": \"born\"\n",
      "        },\n",
      "        {\n",
      "          \"dep\": \"compound\",\n",
      "          \"governor\": 2,\n",
      "          \"governorGloss\": \"Obama\",\n",
      "          \"dependent\": 1,\n",
      "          \"dependentGloss\": \"Brack\"\n",
      "        },\n",
      "        {\n",
      "          \"dep\": \"nsubjpass\",\n",
      "          \"governor\": 4,\n",
      "          \"governorGloss\": \"born\",\n",
      "          \"dependent\": 2,\n",
      "          \"dependentGloss\": \"Obama\"\n",
      "        },\n",
      "        {\n",
      "          \"dep\": \"auxpass\",\n",
      "          \"governor\": 4,\n",
      "          \"governorGloss\": \"born\",\n",
      "          \"dependent\": 3,\n",
      "          \"dependentGloss\": \"was\"\n",
      "        },\n",
      "        {\n",
      "          \"dep\": \"case\",\n",
      "          \"governor\": 6,\n",
      "          \"governorGloss\": \"Hawaii\",\n",
      "          \"dependent\": 5,\n",
      "          \"dependentGloss\": \"in\"\n",
      "        },\n",
      "        {\n",
      "          \"dep\": \"nmod:in\",\n",
      "          \"governor\": 4,\n",
      "          \"governorGloss\": \"born\",\n",
      "          \"dependent\": 6,\n",
      "          \"dependentGloss\": \"Hawaii\"\n",
      "        }\n",
      "      ],\n",
      "      \"enhancedPlusPlusDependencies\": [\n",
      "        {\n",
      "          \"dep\": \"ROOT\",\n",
      "          \"governor\": 0,\n",
      "          \"governorGloss\": \"ROOT\",\n",
      "          \"dependent\": 4,\n",
      "          \"dependentGloss\": \"born\"\n",
      "        },\n",
      "        {\n",
      "          \"dep\": \"compound\",\n",
      "          \"governor\": 2,\n",
      "          \"governorGloss\": \"Obama\",\n",
      "          \"dependent\": 1,\n",
      "          \"dependentGloss\": \"Brack\"\n",
      "        },\n",
      "        {\n",
      "          \"dep\": \"nsubjpass\",\n",
      "          \"governor\": 4,\n",
      "          \"governorGloss\": \"born\",\n",
      "          \"dependent\": 2,\n",
      "          \"dependentGloss\": \"Obama\"\n",
      "        },\n",
      "        {\n",
      "          \"dep\": \"auxpass\",\n",
      "          \"governor\": 4,\n",
      "          \"governorGloss\": \"born\",\n",
      "          \"dependent\": 3,\n",
      "          \"dependentGloss\": \"was\"\n",
      "        },\n",
      "        {\n",
      "          \"dep\": \"case\",\n",
      "          \"governor\": 6,\n",
      "          \"governorGloss\": \"Hawaii\",\n",
      "          \"dependent\": 5,\n",
      "          \"dependentGloss\": \"in\"\n",
      "        },\n",
      "        {\n",
      "          \"dep\": \"nmod:in\",\n",
      "          \"governor\": 4,\n",
      "          \"governorGloss\": \"born\",\n",
      "          \"dependent\": 6,\n",
      "          \"dependentGloss\": \"Hawaii\"\n",
      "        }\n",
      "      ],\n",
      "      \"openie\": [\n",
      "        {\n",
      "          \"subject\": \"Brack Obama\",\n",
      "          \"subjectSpan\": [0, 2],\n",
      "          \"relation\": \"was born in\",\n",
      "          \"relationSpan\": [2, 5],\n",
      "          \"object\": \"Hawaii\",\n",
      "          \"objectSpan\": [5, 6]\n",
      "        },\n",
      "        {\n",
      "          \"subject\": \"Brack Obama\",\n",
      "          \"subjectSpan\": [0, 2],\n",
      "          \"relation\": \"was\",\n",
      "          \"relationSpan\": [2, 3],\n",
      "          \"object\": \"born\",\n",
      "          \"objectSpan\": [3, 4]\n",
      "        }\n",
      "      ],\n",
      "      \"tokens\": [\n",
      "        {\n",
      "          \"index\": 1,\n",
      "          \"word\": \"Brack\",\n",
      "          \"originalText\": \"Brack\",\n",
      "          \"lemma\": \"Brack\",\n",
      "          \"characterOffsetBegin\": 0,\n",
      "          \"characterOffsetEnd\": 5,\n",
      "          \"pos\": \"NNP\",\n",
      "          \"before\": \"\",\n",
      "          \"after\": \" \"\n",
      "        },\n",
      "        {\n",
      "          \"index\": 2,\n",
      "          \"word\": \"Obama\",\n",
      "          \"originalText\": \"Obama\",\n",
      "          \"lemma\": \"Obama\",\n",
      "          \"characterOffsetBegin\": 6,\n",
      "          \"characterOffsetEnd\": 11,\n",
      "          \"pos\": \"NNP\",\n",
      "          \"before\": \" \",\n",
      "          \"after\": \" \"\n",
      "        },\n",
      "        {\n",
      "          \"index\": 3,\n",
      "          \"word\": \"was\",\n",
      "          \"originalText\": \"was\",\n",
      "          \"lemma\": \"be\",\n",
      "          \"characterOffsetBegin\": 12,\n",
      "          \"characterOffsetEnd\": 15,\n",
      "          \"pos\": \"VBD\",\n",
      "          \"before\": \" \",\n",
      "          \"after\": \" \"\n",
      "        },\n",
      "        {\n",
      "          \"index\": 4,\n",
      "          \"word\": \"born\",\n",
      "          \"originalText\": \"born\",\n",
      "          \"lemma\": \"bear\",\n",
      "          \"characterOffsetBegin\": 16,\n",
      "          \"characterOffsetEnd\": 20,\n",
      "          \"pos\": \"VBN\",\n",
      "          \"before\": \" \",\n",
      "          \"after\": \" \"\n",
      "        },\n",
      "        {\n",
      "          \"index\": 5,\n",
      "          \"word\": \"in\",\n",
      "          \"originalText\": \"in\",\n",
      "          \"lemma\": \"in\",\n",
      "          \"characterOffsetBegin\": 21,\n",
      "          \"characterOffsetEnd\": 23,\n",
      "          \"pos\": \"IN\",\n",
      "          \"before\": \" \",\n",
      "          \"after\": \" \"\n",
      "        },\n",
      "        {\n",
      "          \"index\": 6,\n",
      "          \"word\": \"Hawaii\",\n",
      "          \"originalText\": \"Hawaii\",\n",
      "          \"lemma\": \"Hawaii\",\n",
      "          \"characterOffsetBegin\": 24,\n",
      "          \"characterOffsetEnd\": 30,\n",
      "          \"pos\": \"NNP\",\n",
      "          \"before\": \" \",\n",
      "          \"after\": \"\"\n",
      "        }\n",
      "      ]\n",
      "    }\n",
      "  ]\n",
      "}\n",
      "\n"
     ]
    }
   ],
   "source": [
    "s='Twenty percent electric motors are pulled from an assembly line'\n",
    "s1='Brack Obama was born in Hawaii'\n",
    "# s = input('Sentence: ')\n",
    "\n",
    "output = nlp.annotate(s1, properties={\"annotators\":\"tokenize,ssplit,pos,depparse,natlog,openie\",\n",
    "                                    \"outputFormat\": \"json\",\n",
    "                                    \"openie.triple.strict\":\"true\",\n",
    "                                    \"openie.max_entailments_per_clause\":\"1\"})\n",
    "print(output)\n",
    "output = json.loads(output)"
   ]
  },
  {
   "cell_type": "code",
   "execution_count": 9,
   "metadata": {},
   "outputs": [
    {
     "name": "stdout",
     "output_type": "stream",
     "text": [
      "The subject, object and verb/relation of the given sentence are\n",
      "Brack Obama -> was born in -> Hawaii\n",
      "Brack Obama -> was -> born\n"
     ]
    }
   ],
   "source": [
    "print(\"The subject, object and verb/relation of the given sentence are\")\n",
    "for openie_result in output[\"sentences\"]:\n",
    "    triplets = openie_result['openie']\n",
    "    for triplet in triplets:\n",
    "        print(triplet['subject'] + ' -> ' + triplet['relation'] + ' -> ' + triplet['object'])"
   ]
  },
  {
   "cell_type": "markdown",
   "metadata": {},
   "source": [
    "# WordNet\n",
    "Ref: **Dive into WordNet with NLTK** on [Medium](https://medium.com/parrot-prediction/dive-into-wordnet-with-nltk-b313c480e788) by _[Norbert Kozlowski](https://medium.com/@don_khozzy)_"
   ]
  },
  {
   "cell_type": "code",
   "execution_count": 10,
   "metadata": {},
   "outputs": [
    {
     "data": {
      "text/plain": [
       "[Synset('car.n.01')]"
      ]
     },
     "execution_count": 10,
     "metadata": {},
     "output_type": "execute_result"
    }
   ],
   "source": [
    "from nltk.corpus import wordnet as wn\n",
    "# unambiguous word\n",
    "wn.synsets('motorcar')"
   ]
  },
  {
   "cell_type": "code",
   "execution_count": 11,
   "metadata": {},
   "outputs": [
    {
     "data": {
      "text/plain": [
       "['car', 'auto', 'automobile', 'machine', 'motorcar']"
      ]
     },
     "execution_count": 11,
     "metadata": {},
     "output_type": "execute_result"
    }
   ],
   "source": [
    "wn.synset('car.n.01').lemma_names()"
   ]
  },
  {
   "cell_type": "code",
   "execution_count": 12,
   "metadata": {},
   "outputs": [
    {
     "data": {
      "text/plain": [
       "[Synset('printer.n.01'), Synset('printer.n.02'), Synset('printer.n.03')]"
      ]
     },
     "execution_count": 12,
     "metadata": {},
     "output_type": "execute_result"
    }
   ],
   "source": [
    "# ambiguous word\n",
    "wn.synsets('printer')"
   ]
  },
  {
   "cell_type": "code",
   "execution_count": 14,
   "metadata": {},
   "outputs": [
    {
     "name": "stdout",
     "output_type": "stream",
     "text": [
      "\tLemma: printer.n.01\n",
      "\tDefinition: someone whose occupation is printing\n",
      "\tExample: []\n",
      "\n",
      "\tLemma: printer.n.02\n",
      "\tDefinition: (computer science) an output device that prints the results of data processing\n",
      "\tExample: []\n",
      "\n",
      "\tLemma: printer.n.03\n",
      "\tDefinition: a machine that prints\n",
      "\tExample: []\n",
      "\n"
     ]
    }
   ],
   "source": [
    "for synset in wn.synsets('printer'):\n",
    "    print(\"\\tLemma: {}\".format(synset.name()))\n",
    "    print(\"\\tDefinition: {}\".format(synset.definition()))\n",
    "    print(\"\\tExample: {}\".format(synset.examples()))\n",
    "    print()"
   ]
  },
  {
   "cell_type": "code",
   "execution_count": 16,
   "metadata": {},
   "outputs": [
    {
     "name": "stdout",
     "output_type": "stream",
     "text": [
      "printer.n.01  ->  [Lemma('printer.n.01.printer'), Lemma('printer.n.01.pressman')]\n",
      "printer.n.02  ->  [Lemma('printer.n.02.printer')]\n",
      "printer.n.03  ->  [Lemma('printer.n.03.printer'), Lemma('printer.n.03.printing_machine')]\n"
     ]
    }
   ],
   "source": [
    "for synset in wn.synsets('printer'):\n",
    "    print(synset.name(), ' -> ', synset.lemmas())"
   ]
  },
  {
   "cell_type": "markdown",
   "metadata": {},
   "source": [
    "## Hyponym — a more specific concept\n",
    "lower in the hierarchy (machine -> printer -> **typesetting_machine**)"
   ]
  },
  {
   "cell_type": "code",
   "execution_count": 17,
   "metadata": {},
   "outputs": [
    {
     "data": {
      "text/plain": [
       "['Addressograph',\n",
       " 'addressing_machine',\n",
       " 'character-at-a-time_printer',\n",
       " 'character_printer',\n",
       " 'electrostatic_printer',\n",
       " 'impact_printer',\n",
       " 'line-at-a-time_printer',\n",
       " 'line_printer',\n",
       " 'page-at-a-time_printer',\n",
       " 'page_printer',\n",
       " 'printer',\n",
       " 'serial_printer',\n",
       " 'thermal_printer',\n",
       " 'typesetting_machine']"
      ]
     },
     "execution_count": 17,
     "metadata": {},
     "output_type": "execute_result"
    }
   ],
   "source": [
    "machine_that_prints = wn.synset('printer.n.03')\n",
    "sorted([lemma.name() for synset in machine_that_prints.hyponyms() for lemma in synset.lemmas()])"
   ]
  },
  {
   "cell_type": "markdown",
   "metadata": {},
   "source": [
    "## Hypernym — a more general concept.\n",
    "higher in the hierarchy (typesetting_machine -> printer -> **machine**)"
   ]
  },
  {
   "cell_type": "code",
   "execution_count": 19,
   "metadata": {},
   "outputs": [
    {
     "name": "stdout",
     "output_type": "stream",
     "text": [
      "[Synset('burl.n.02'), Synset('crown.n.07'), Synset('limb.n.02'), Synset('stump.n.01'), Synset('trunk.n.01')]\n",
      "[Synset('heartwood.n.01'), Synset('sapwood.n.01')]\n"
     ]
    }
   ],
   "source": [
    "tree = wn.synset('tree.n.01')\n",
    "# obtain parts\n",
    "print(tree.part_meronyms())\n",
    "# obtain substances\n",
    "print(tree.substance_meronyms())"
   ]
  },
  {
   "cell_type": "markdown",
   "metadata": {},
   "source": [
    "## Holonym — denotes a membership to something\n",
    "engine -> car"
   ]
  },
  {
   "cell_type": "code",
   "execution_count": 21,
   "metadata": {},
   "outputs": [
    {
     "name": "stdout",
     "output_type": "stream",
     "text": [
      "[Synset('chemical_element.n.01'), Synset('molecule.n.01')]\n",
      "[Synset('water.n.01')]\n"
     ]
    }
   ],
   "source": [
    "print(wn.synset('atom.n.01').part_holonyms())\n",
    " \n",
    "print(wn.synset('hydrogen.n.01').substance_holonyms())"
   ]
  },
  {
   "cell_type": "markdown",
   "metadata": {},
   "source": [
    "## Meronym — denotes a part of something\n",
    "plant_part -> plant"
   ]
  },
  {
   "cell_type": "code",
   "execution_count": 23,
   "metadata": {},
   "outputs": [
    {
     "name": "stdout",
     "output_type": "stream",
     "text": [
      "[Synset('burl.n.02'), Synset('crown.n.07'), Synset('limb.n.02'), Synset('stump.n.01'), Synset('trunk.n.01')]\n",
      "[Synset('heartwood.n.01'), Synset('sapwood.n.01')]\n"
     ]
    }
   ],
   "source": [
    "tree = wn.synset('tree.n.01')\n",
    " \n",
    "print(tree.part_meronyms())\n",
    " \n",
    "print(tree.substance_meronyms())"
   ]
  },
  {
   "cell_type": "markdown",
   "metadata": {},
   "source": [
    "## Entailment — denotes how verbs are involved"
   ]
  },
  {
   "cell_type": "code",
   "execution_count": 24,
   "metadata": {},
   "outputs": [
    {
     "data": {
      "text/plain": [
       "[Synset('chew.v.01'), Synset('swallow.v.01')]"
      ]
     },
     "execution_count": 24,
     "metadata": {},
     "output_type": "execute_result"
    }
   ],
   "source": [
    "wn.synset('eat.v.01').entailments()"
   ]
  },
  {
   "cell_type": "code",
   "execution_count": 25,
   "metadata": {},
   "outputs": [],
   "source": [
    "## Similarity"
   ]
  },
  {
   "cell_type": "code",
   "execution_count": 26,
   "metadata": {},
   "outputs": [
    {
     "data": {
      "text/plain": [
       "[Synset('motor_vehicle.n.01')]"
      ]
     },
     "execution_count": 26,
     "metadata": {},
     "output_type": "execute_result"
    }
   ],
   "source": [
    "truck = wn.synset('truck.n.01')\n",
    "limousine = wn.synset('limousine.n.01')\n",
    " \n",
    "truck.lowest_common_hypernyms(limousine)"
   ]
  },
  {
   "cell_type": "code",
   "execution_count": 29,
   "metadata": {},
   "outputs": [
    {
     "name": "stdout",
     "output_type": "stream",
     "text": [
      "0\n",
      "10\n",
      "14\n",
      "15\n"
     ]
    }
   ],
   "source": [
    "print(wn.synset('entity.n.01').min_depth())\n",
    "\n",
    "print(wn.synset('car.n.01').min_depth())\n",
    "\n",
    "print(wn.synset('horse.n.01').min_depth())\n",
    "\n",
    "print(wn.synset('mare.n.01').min_depth())"
   ]
  },
  {
   "cell_type": "code",
   "execution_count": 28,
   "metadata": {},
   "outputs": [
    {
     "name": "stdout",
     "output_type": "stream",
     "text": [
      "Train => Horse: 0.058823529411764705\n",
      "Horse => Train: 0.058823529411764705\n",
      "Horse => Animal: 0.1111111111111111\n",
      "Train => Atom: 0.09090909090909091\n"
     ]
    }
   ],
   "source": [
    "train = wn.synset('train.n.01')\n",
    "horse = wn.synset('horse.n.01')\n",
    "animal = wn.synset('animal.n.01')\n",
    "atom = wn.synset('atom.n.01')\n",
    " \n",
    "print(\"Train => Horse: {}\".format(train.path_similarity(horse)))\n",
    "print(\"Horse => Train: {}\".format(horse.path_similarity(train)))\n",
    "print(\"Horse => Animal: {}\".format(horse.path_similarity(animal)))\n",
    "print(\"Train => Atom: {}\".format(train.path_similarity(atom)))"
   ]
  },
  {
   "cell_type": "code",
   "execution_count": null,
   "metadata": {},
   "outputs": [],
   "source": []
  }
 ],
 "metadata": {
  "kernelspec": {
   "display_name": "Python 3",
   "language": "python",
   "name": "python3"
  },
  "language_info": {
   "codemirror_mode": {
    "name": "ipython",
    "version": 3
   },
   "file_extension": ".py",
   "mimetype": "text/x-python",
   "name": "python",
   "nbconvert_exporter": "python",
   "pygments_lexer": "ipython3",
   "version": "3.6.9"
  }
 },
 "nbformat": 4,
 "nbformat_minor": 4
}
